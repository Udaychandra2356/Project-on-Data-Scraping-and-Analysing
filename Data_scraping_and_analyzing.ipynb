{
  "nbformat": 4,
  "nbformat_minor": 0,
  "metadata": {
    "colab": {
      "name": "Data scraping and analyzing",
      "provenance": [],
      "collapsed_sections": []
    },
    "kernelspec": {
      "name": "python3",
      "display_name": "Python 3"
    },
    "language_info": {
      "name": "python"
    }
  },
  "cells": [
    {
      "cell_type": "code",
      "metadata": {
        "id": "HV8Bu6uwWnLE"
      },
      "source": [
        "import bs4\n",
        "import requests\n",
        "import pandas as pd\n",
        "import numpy as np\n",
        "import matplotlib.pyplot as plt\n",
        "from IPython.display import display\n",
        "#print('Librarires Successully Imported')"
      ],
      "execution_count": 3,
      "outputs": []
    },
    {
      "cell_type": "code",
      "metadata": {
        "id": "kfiOz3DhYiiV"
      },
      "source": [
        "def get_basketball_stats(link='https://en.wikipedia.org/wiki/Michael_Jordan'):\n",
        "    # read the webpage\n",
        "    response = requests.get(link)\n",
        "    soup = bs4.BeautifulSoup(response.text, 'html.parser')\n",
        "    table = soup.find(class_='wikitable sortable')\n",
        "\n",
        "    #the headers of the table are the first table row (tr) we create a tag object that has the first row\n",
        "    headers = table.tr\n",
        "    titles = headers.find_all('abbr')\n",
        "    data = {title['title']: [] for title in titles}\n",
        "\n",
        "\n",
        "    #we iterate over each table row by fining each table tag tr and assign it to the object\n",
        "    for row in table.find_all('tr')[1:]:\n",
        "        for key, a in zip(data.keys(),row.find_all('td')[2:]):\n",
        "            data[key].append(''.join(c for c in a.text if (c.isdigit() or c == '.')))\n",
        "        Min = min([len(x) for x in data.values()])\n",
        "        #we convert the elements in the key to floats\n",
        "        for key in data.keys():\n",
        "            data[key] = list(map(lambda x: float(x), data[key][:Min]))\n",
        "    return data"
      ],
      "execution_count": 4,
      "outputs": []
    },
    {
      "cell_type": "code",
      "metadata": {
        "id": "veXivl_AbRj0"
      },
      "source": [
        "links=['https://en.wikipedia.org/wiki/Michael_Jordan'\\\n",
        "       ,'https://en.wikipedia.org/wiki/Kobe_Bryant'\\\n",
        "       ,'https://en.wikipedia.org/wiki/Ben_Simmons'\\\n",
        "       ,'https://en.wikipedia.org/wiki/Jayson_Tatum'\\\n",
        "       ,'https://en.wikipedia.org/wiki/Paul_George'\\\n",
        "       ,'https://en.wikipedia.org/wiki/Zion_Williamson'\\\n",
        "       ,'https://en.wikipedia.org/wiki/Jamal_Murray'\\\n",
        "       ,'https://en.wikipedia.org/wiki/Jaylen_Brown'\\\n",
        "       ,'https://en.wikipedia.org/wiki/Kyrie_Irving'\\\n",
        "       ,'https://en.wikipedia.org/wiki/Russell_Westbrook',]\n",
        "names=['Michael Jordan','Kobe Bryant','Ben simmon','Jayson Tatum','Paul george','Zion Williamson', 'Jamal Murray', 'Jaylen Brown', 'Kyrie Irving', 'Russell Westbrook']"
      ],
      "execution_count": 5,
      "outputs": []
    },
    {
      "cell_type": "code",
      "metadata": {
        "id": "nbelzIKyb6Hk"
      },
      "source": [
        "michael_jordan_dict = get_basketball_stats(links[0])\n",
        "kobe_bryant_dict = get_basketball_stats(links[1])\n",
        "ben_simmon_dict = get_basketball_stats(links[2])\n",
        "jayson_tatum_dict = get_basketball_stats(links[3])\n",
        "paul_george_dict = get_basketball_stats(links[4])\n",
        "zion_williamson_dict = get_basketball_stats(links[5])\n",
        "jamal_murray_dict = get_basketball_stats(links[6])\n",
        "jaylen_brown_dict = get_basketball_stats(links[7])\n",
        "kyrie_irving_dict = get_basketball_stats(links[8])\n",
        "russell_westbrook_dict = get_basketball_stats(links[9])"
      ],
      "execution_count": 6,
      "outputs": []
    },
    {
      "cell_type": "code",
      "metadata": {
        "id": "AFW6ePkuctL2"
      },
      "source": [
        "mj_table = pd.DataFrame(michael_jordan_dict)\n",
        "kb_table = pd.DataFrame(kobe_bryant_dict)\n",
        "bs_table = pd.DataFrame(ben_simmon_dict)\n",
        "jt_table = pd.DataFrame(jayson_tatum_dict)\n",
        "pg_table = pd.DataFrame(paul_george_dict)\n",
        "zw_table = pd.DataFrame(zion_williamson_dict)\n",
        "jm_table = pd.DataFrame(jamal_murray_dict)\n",
        "jb_table = pd.DataFrame(jaylen_brown_dict)\n",
        "ki_table = pd.DataFrame(kyrie_irving_dict)\n",
        "rw_table = pd.DataFrame(russell_westbrook_dict)"
      ],
      "execution_count": 7,
      "outputs": []
    },
    {
      "cell_type": "code",
      "metadata": {
        "id": "VdP5YwIEc9Cn"
      },
      "source": [
        "mj_table\n",
        "kb_table"
      ],
      "execution_count": null,
      "outputs": []
    },
    {
      "cell_type": "code",
      "metadata": {
        "id": "KP4nSGvTdXOE"
      },
      "source": [
        "list_table =[mj_table, kb_table, bs_table, jt_table, pg_table,zw_table,jm_table,jb_table,ki_table,rw_table]\n",
        "\n",
        "i = 0\n",
        "for name in names:\n",
        "    print(name)\n",
        "    display(list_table[i].head(6))\n",
        "    i += 1"
      ],
      "execution_count": null,
      "outputs": []
    },
    {
      "cell_type": "code",
      "metadata": {
        "id": "iKm1I4xoduoz"
      },
      "source": [
        "import matplotlib.pyplot as plt"
      ],
      "execution_count": 11,
      "outputs": []
    },
    {
      "cell_type": "code",
      "metadata": {
        "id": "pT7sBWeVdwj0"
      },
      "source": [
        "j = 0\n",
        "for name in names:\n",
        "    plt.plot(list_table[j][['Points per game']],label=name)\n",
        "    plt.legend()\n",
        "    plt.xlabel('years')\n",
        "    plt.ylabel('Points per game')\n",
        "\n",
        "    j += 1"
      ],
      "execution_count": null,
      "outputs": []
    },
    {
      "cell_type": "code",
      "metadata": {
        "id": "uNRL2Y6Id460"
      },
      "source": [
        "csv_name = 'MJ1.csv'\n",
        "mj_table.to_csv(csv_name)\n",
        "mj_table"
      ],
      "execution_count": null,
      "outputs": []
    },
    {
      "cell_type": "code",
      "metadata": {
        "id": "MqFKwne9y9E5"
      },
      "source": [
        "csv_name1 = 'kb1.csv'\n",
        "kb_table.to_csv(csv_name1)\n",
        "kb_table"
      ],
      "execution_count": null,
      "outputs": []
    },
    {
      "cell_type": "code",
      "metadata": {
        "id": "KcKkr0N1y_87"
      },
      "source": [
        "csv_name2 = 'bs1.csv'\n",
        "bs_table.to_csv(csv_name2)\n",
        "bs_table"
      ],
      "execution_count": null,
      "outputs": []
    },
    {
      "cell_type": "code",
      "metadata": {
        "id": "C6WkSiP_zD8f"
      },
      "source": [
        "csv_name3 = 'jt1.csv'\n",
        "jt_table.to_csv(csv_name3)\n",
        "jt_table"
      ],
      "execution_count": null,
      "outputs": []
    },
    {
      "cell_type": "code",
      "metadata": {
        "id": "rTuthi-ezF8v"
      },
      "source": [
        "csv_name4 = 'pg1.csv'\n",
        "pg_table.to_csv(csv_name4)\n",
        "pg_table"
      ],
      "execution_count": null,
      "outputs": []
    },
    {
      "cell_type": "code",
      "metadata": {
        "id": "P3JO2J6vzHrv"
      },
      "source": [
        "csv_name5 = 'zw1.csv'\n",
        "zw_table.to_csv(csv_name5)\n",
        "zw_table"
      ],
      "execution_count": null,
      "outputs": []
    },
    {
      "cell_type": "code",
      "metadata": {
        "id": "JcyQaTrrzJxX"
      },
      "source": [
        "csv_name6 = 'jm1.csv'\n",
        "jm_table.to_csv(csv_name6)\n",
        "jm_table"
      ],
      "execution_count": null,
      "outputs": []
    },
    {
      "cell_type": "code",
      "metadata": {
        "id": "HrLp632lzLXZ"
      },
      "source": [
        "csv_name7 = 'jb1.csv'\n",
        "jb_table.to_csv(csv_name7)\n",
        "jb_table"
      ],
      "execution_count": null,
      "outputs": []
    },
    {
      "cell_type": "code",
      "metadata": {
        "id": "bcXK_7G9zNRF"
      },
      "source": [
        "csv_name8 = 'ki1.csv'\n",
        "ki_table.to_csv(csv_name8)\n",
        "ki_table"
      ],
      "execution_count": null,
      "outputs": []
    },
    {
      "cell_type": "code",
      "metadata": {
        "id": "-uAEGMouzOpe"
      },
      "source": [
        "csv_name9 = 'rw1.csv'\n",
        "rw_table.to_csv(csv_name9)\n",
        "rw_table"
      ],
      "execution_count": null,
      "outputs": []
    }
  ]
}